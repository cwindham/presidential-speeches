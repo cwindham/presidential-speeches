{
 "cells": [
  {
   "cell_type": "code",
   "execution_count": 1,
   "metadata": {
    "collapsed": true
   },
   "outputs": [],
   "source": [
    "import numpy as np\n",
    "import pandas as pd\n",
    "import re, string\n",
    "from lxml import etree, html"
   ]
  },
  {
   "cell_type": "code",
   "execution_count": 2,
   "metadata": {
    "collapsed": false
   },
   "outputs": [],
   "source": [
    "doc = html.parse('http://millercenter.org/president/speeches').getroot()\n",
    "doc.make_links_absolute()"
   ]
  },
  {
   "cell_type": "code",
   "execution_count": 3,
   "metadata": {
    "collapsed": false
   },
   "outputs": [],
   "source": [
    "parser = etree.HTMLParser()\n",
    "tree = etree.parse('http://millercenter.org/president/speeches', parser)"
   ]
  },
  {
   "cell_type": "code",
   "execution_count": 4,
   "metadata": {
    "collapsed": false,
    "scrolled": true
   },
   "outputs": [],
   "source": [
    "pres = [link.text_content().replace(' ↑', '') for link in doc.cssselect('h2.president')]"
   ]
  },
  {
   "cell_type": "code",
   "execution_count": 5,
   "metadata": {
    "collapsed": false,
    "scrolled": true
   },
   "outputs": [],
   "source": [
    "pres_line = [elt.sourceline for elt in tree.getiterator('h2')\n",
    "             if elt.get('class') == 'president']"
   ]
  },
  {
   "cell_type": "code",
   "execution_count": 6,
   "metadata": {
    "collapsed": false
   },
   "outputs": [],
   "source": [
    "presidents = list(zip(pres_line, pres))"
   ]
  },
  {
   "cell_type": "code",
   "execution_count": 7,
   "metadata": {
    "collapsed": false
   },
   "outputs": [],
   "source": [
    "#dummy value\n",
    "presidents.append((100000000, None))"
   ]
  },
  {
   "cell_type": "code",
   "execution_count": 8,
   "metadata": {
    "collapsed": false
   },
   "outputs": [],
   "source": [
    "speeches = []\n",
    "duplicates = ['Transcript', 'Audio', 'Video']\n",
    "for i in range(len(presidents)):\n",
    "    speech_list = []\n",
    "    for link in doc.cssselect('div.entry a'):\n",
    "        text = link.text_content()\n",
    "        if presidents[i][0] < link.sourceline < presidents[i+1][0] and text not in duplicates:\n",
    "            if re.findall(r'\\(\\w*\\s\\d*,\\s\\d*\\)', text):\n",
    "                date = re.findall(r'\\(\\w*\\s\\d*,\\s\\d*\\)', text)[0]\n",
    "                date = re.sub('['+string.punctuation+']', '', date)\n",
    "                title = re.sub(r'\\s\\(\\w*\\s\\d*,\\s\\d*\\)', '', text)\n",
    "            else:\n",
    "                date = np.nan\n",
    "                title = re.sub(r'\\s\\(.*\\)', '', text)\n",
    "            speeches.append([presidents[i][1],\n",
    "                            title,\n",
    "                            date,\n",
    "                            link.get('href')])"
   ]
  },
  {
   "cell_type": "code",
   "execution_count": 9,
   "metadata": {
    "collapsed": false,
    "scrolled": true
   },
   "outputs": [],
   "source": [
    "columns = ['president', 'title', 'date', 'link']\n",
    "df_speeches = pd.DataFrame(np.array(speeches), columns=columns)"
   ]
  },
  {
   "cell_type": "code",
   "execution_count": 10,
   "metadata": {
    "collapsed": false
   },
   "outputs": [],
   "source": [
    "df_speeches['date'] = pd.to_datetime(df_speeches['date'])"
   ]
  },
  {
   "cell_type": "code",
   "execution_count": 11,
   "metadata": {
    "collapsed": false
   },
   "outputs": [],
   "source": [
    "df_speeches.dropna(inplace=True)"
   ]
  },
  {
   "cell_type": "code",
   "execution_count": 12,
   "metadata": {
    "collapsed": false,
    "scrolled": true
   },
   "outputs": [
    {
     "data": {
      "text/html": [
       "<div>\n",
       "<table border=\"1\" class=\"dataframe\">\n",
       "  <thead>\n",
       "    <tr style=\"text-align: right;\">\n",
       "      <th></th>\n",
       "      <th>president</th>\n",
       "      <th>title</th>\n",
       "      <th>date</th>\n",
       "      <th>link</th>\n",
       "    </tr>\n",
       "  </thead>\n",
       "  <tbody>\n",
       "    <tr>\n",
       "      <th>0</th>\n",
       "      <td>Barack Obama</td>\n",
       "      <td>Acceptance Speech at the Democratic National C...</td>\n",
       "      <td>2008-08-28</td>\n",
       "      <td>http://millercenter.org/president/obama/speech...</td>\n",
       "    </tr>\n",
       "    <tr>\n",
       "      <th>1</th>\n",
       "      <td>Barack Obama</td>\n",
       "      <td>Remarks on Election Night</td>\n",
       "      <td>2008-11-04</td>\n",
       "      <td>http://millercenter.org/president/obama/speech...</td>\n",
       "    </tr>\n",
       "    <tr>\n",
       "      <th>2</th>\n",
       "      <td>Barack Obama</td>\n",
       "      <td>Inaugural Address</td>\n",
       "      <td>2009-01-20</td>\n",
       "      <td>http://millercenter.org/president/obama/speech...</td>\n",
       "    </tr>\n",
       "    <tr>\n",
       "      <th>3</th>\n",
       "      <td>Barack Obama</td>\n",
       "      <td>Remarks on the Lilly Ledbetter Fair Pay Restor...</td>\n",
       "      <td>2009-01-29</td>\n",
       "      <td>http://millercenter.org/president/obama/speech...</td>\n",
       "    </tr>\n",
       "    <tr>\n",
       "      <th>4</th>\n",
       "      <td>Barack Obama</td>\n",
       "      <td>Remarks on the American Recovery and Reinvestm...</td>\n",
       "      <td>2009-02-07</td>\n",
       "      <td>http://millercenter.org/president/obama/speech...</td>\n",
       "    </tr>\n",
       "  </tbody>\n",
       "</table>\n",
       "</div>"
      ],
      "text/plain": [
       "      president                                              title       date  \\\n",
       "0  Barack Obama  Acceptance Speech at the Democratic National C... 2008-08-28   \n",
       "1  Barack Obama                          Remarks on Election Night 2008-11-04   \n",
       "2  Barack Obama                                  Inaugural Address 2009-01-20   \n",
       "3  Barack Obama  Remarks on the Lilly Ledbetter Fair Pay Restor... 2009-01-29   \n",
       "4  Barack Obama  Remarks on the American Recovery and Reinvestm... 2009-02-07   \n",
       "\n",
       "                                                link  \n",
       "0  http://millercenter.org/president/obama/speech...  \n",
       "1  http://millercenter.org/president/obama/speech...  \n",
       "2  http://millercenter.org/president/obama/speech...  \n",
       "3  http://millercenter.org/president/obama/speech...  \n",
       "4  http://millercenter.org/president/obama/speech...  "
      ]
     },
     "execution_count": 12,
     "metadata": {},
     "output_type": "execute_result"
    }
   ],
   "source": [
    "df_speeches.head()"
   ]
  },
  {
   "cell_type": "code",
   "execution_count": 13,
   "metadata": {
    "collapsed": false
   },
   "outputs": [],
   "source": [
    "def get_transcript(link):\n",
    "    try:\n",
    "        speech_doc = html.parse(link).getroot()\n",
    "        speech = ' '.join(speech_doc.cssselect('div.indent')[0].itertext()).replace(u'\\xa0', ' ')\n",
    "        speech = re.sub(r'^\\s*Transcript\\s*', '', speech)\n",
    "        speech = re.sub(r'\\s*$', '', speech)\n",
    "        return speech\n",
    "    except:\n",
    "        return np.nan"
   ]
  },
  {
   "cell_type": "code",
   "execution_count": 14,
   "metadata": {
    "collapsed": true
   },
   "outputs": [],
   "source": [
    "df_speeches['transcript'] = df_speeches['link'].apply(get_transcript)"
   ]
  },
  {
   "cell_type": "code",
   "execution_count": 15,
   "metadata": {
    "collapsed": true
   },
   "outputs": [],
   "source": [
    "df_speeches.dropna(inplace=True)"
   ]
  },
  {
   "cell_type": "code",
   "execution_count": 16,
   "metadata": {
    "collapsed": false
   },
   "outputs": [
    {
     "data": {
      "text/html": [
       "<div>\n",
       "<table border=\"1\" class=\"dataframe\">\n",
       "  <thead>\n",
       "    <tr style=\"text-align: right;\">\n",
       "      <th></th>\n",
       "      <th>president</th>\n",
       "      <th>title</th>\n",
       "      <th>date</th>\n",
       "      <th>link</th>\n",
       "      <th>transcript</th>\n",
       "    </tr>\n",
       "  </thead>\n",
       "  <tbody>\n",
       "    <tr>\n",
       "      <th>0</th>\n",
       "      <td>Barack Obama</td>\n",
       "      <td>Acceptance Speech at the Democratic National C...</td>\n",
       "      <td>2008-08-28</td>\n",
       "      <td>http://millercenter.org/president/obama/speech...</td>\n",
       "      <td>To Chairman Dean and my great friend Dick Durb...</td>\n",
       "    </tr>\n",
       "    <tr>\n",
       "      <th>1</th>\n",
       "      <td>Barack Obama</td>\n",
       "      <td>Remarks on Election Night</td>\n",
       "      <td>2008-11-04</td>\n",
       "      <td>http://millercenter.org/president/obama/speech...</td>\n",
       "      <td>If there is anyone out there who still doubts ...</td>\n",
       "    </tr>\n",
       "    <tr>\n",
       "      <th>2</th>\n",
       "      <td>Barack Obama</td>\n",
       "      <td>Inaugural Address</td>\n",
       "      <td>2009-01-20</td>\n",
       "      <td>http://millercenter.org/president/obama/speech...</td>\n",
       "      <td>I stand here today humbled by the task before ...</td>\n",
       "    </tr>\n",
       "    <tr>\n",
       "      <th>3</th>\n",
       "      <td>Barack Obama</td>\n",
       "      <td>Remarks on the Lilly Ledbetter Fair Pay Restor...</td>\n",
       "      <td>2009-01-29</td>\n",
       "      <td>http://millercenter.org/president/obama/speech...</td>\n",
       "      <td>It is fitting that with the very first bill I ...</td>\n",
       "    </tr>\n",
       "    <tr>\n",
       "      <th>4</th>\n",
       "      <td>Barack Obama</td>\n",
       "      <td>Remarks on the American Recovery and Reinvestm...</td>\n",
       "      <td>2009-02-07</td>\n",
       "      <td>http://millercenter.org/president/obama/speech...</td>\n",
       "      <td>Thank you, everybody.  Please have a seat.  Yo...</td>\n",
       "    </tr>\n",
       "  </tbody>\n",
       "</table>\n",
       "</div>"
      ],
      "text/plain": [
       "      president                                              title       date  \\\n",
       "0  Barack Obama  Acceptance Speech at the Democratic National C... 2008-08-28   \n",
       "1  Barack Obama                          Remarks on Election Night 2008-11-04   \n",
       "2  Barack Obama                                  Inaugural Address 2009-01-20   \n",
       "3  Barack Obama  Remarks on the Lilly Ledbetter Fair Pay Restor... 2009-01-29   \n",
       "4  Barack Obama  Remarks on the American Recovery and Reinvestm... 2009-02-07   \n",
       "\n",
       "                                                link  \\\n",
       "0  http://millercenter.org/president/obama/speech...   \n",
       "1  http://millercenter.org/president/obama/speech...   \n",
       "2  http://millercenter.org/president/obama/speech...   \n",
       "3  http://millercenter.org/president/obama/speech...   \n",
       "4  http://millercenter.org/president/obama/speech...   \n",
       "\n",
       "                                          transcript  \n",
       "0  To Chairman Dean and my great friend Dick Durb...  \n",
       "1  If there is anyone out there who still doubts ...  \n",
       "2  I stand here today humbled by the task before ...  \n",
       "3  It is fitting that with the very first bill I ...  \n",
       "4  Thank you, everybody.  Please have a seat.  Yo...  "
      ]
     },
     "execution_count": 16,
     "metadata": {},
     "output_type": "execute_result"
    }
   ],
   "source": [
    "df_speeches.head()"
   ]
  },
  {
   "cell_type": "code",
   "execution_count": 17,
   "metadata": {
    "collapsed": false
   },
   "outputs": [],
   "source": [
    "df_speeches.to_csv('speeches_raw.csv', index=False)"
   ]
  },
  {
   "cell_type": "code",
   "execution_count": null,
   "metadata": {
    "collapsed": true
   },
   "outputs": [],
   "source": []
  },
  {
   "cell_type": "code",
   "execution_count": 18,
   "metadata": {
    "collapsed": false,
    "scrolled": false
   },
   "outputs": [],
   "source": [
    "candidates = []\n",
    "for url in ['http://www.presidency.ucsb.edu/2016_election_speeches.php?candidate=70&campaign=2016CLINTON&doctype=5000',\n",
    "            'http://www.presidency.ucsb.edu/2016_election_speeches.php?candidate=115&campaign=2016TRUMP&doctype=5000']:\n",
    "    doc = html.parse(url).getroot()\n",
    "    doc.make_links_absolute()\n",
    "\n",
    "    links = [(link.text_content(), link.find('a').get('href'))\n",
    "             for link in doc.cssselect('td.listdate')\n",
    "             if link.find('a') is not None]\n",
    "\n",
    "    data = [link.text_content() for link in doc.cssselect('td.listdate') if link.find('a') is None]\n",
    "    data = list(zip(data[::2], data[1::2]))\n",
    "\n",
    "    joined = list(zip(data, links))\n",
    "\n",
    "    joined = [list(a + b) for a, b in joined]\n",
    "    candidates = candidates + joined"
   ]
  },
  {
   "cell_type": "code",
   "execution_count": 19,
   "metadata": {
    "collapsed": false
   },
   "outputs": [],
   "source": [
    "columns = ['president', 'date', 'title', 'link']\n",
    "df_candidates = pd.DataFrame(np.array(candidates), columns=columns)\n",
    "df_candidates['date'] = pd.to_datetime(df_candidates['date'])"
   ]
  },
  {
   "cell_type": "code",
   "execution_count": 20,
   "metadata": {
    "collapsed": false,
    "scrolled": true
   },
   "outputs": [],
   "source": [
    "df_candidates = df_candidates[df_candidates['date'] > pd.to_datetime('2015-01-01')]"
   ]
  },
  {
   "cell_type": "code",
   "execution_count": 21,
   "metadata": {
    "collapsed": false
   },
   "outputs": [],
   "source": [
    "df_candidates = df_candidates[df_candidates['title'].str.contains('Interview|Question and Answer') == False]"
   ]
  },
  {
   "cell_type": "code",
   "execution_count": 22,
   "metadata": {
    "collapsed": false
   },
   "outputs": [],
   "source": [
    "def cand_transcript(url):\n",
    "    doc = html.parse(url).getroot()\n",
    "    doc.make_links_absolute()\n",
    "    return ' '.join(doc.cssselect('span.displaytext')[0].itertext())"
   ]
  },
  {
   "cell_type": "code",
   "execution_count": 23,
   "metadata": {
    "collapsed": false
   },
   "outputs": [],
   "source": [
    "df_candidates['transcript'] = df_candidates['link'].apply(cand_transcript)"
   ]
  },
  {
   "cell_type": "code",
   "execution_count": 24,
   "metadata": {
    "collapsed": false
   },
   "outputs": [
    {
     "name": "stderr",
     "output_type": "stream",
     "text": [
      "/home/charlie/anaconda2/envs/scraper/lib/python3.5/site-packages/ipykernel/__main__.py:1: UserWarning: This pattern has match groups. To actually get the groups, use str.extract.\n",
      "  if __name__ == '__main__':\n"
     ]
    }
   ],
   "source": [
    "df_candidates = df_candidates[df_candidates['transcript'].str.contains(r'^(.{,20}?):') == False]\n",
    "df_candidates.drop(163, axis=0, inplace=True)"
   ]
  },
  {
   "cell_type": "code",
   "execution_count": 25,
   "metadata": {
    "collapsed": false
   },
   "outputs": [],
   "source": [
    "df_candidates.to_csv('candidates.csv', index=False)"
   ]
  }
 ],
 "metadata": {
  "anaconda-cloud": {},
  "kernelspec": {
   "display_name": "Python [conda env:gis2]",
   "language": "python",
   "name": "conda-env-gis2-py"
  },
  "language_info": {
   "codemirror_mode": {
    "name": "ipython",
    "version": 2
   },
   "file_extension": ".py",
   "mimetype": "text/x-python",
   "name": "python",
   "nbconvert_exporter": "python",
   "pygments_lexer": "ipython2",
   "version": "2.7.12"
  }
 },
 "nbformat": 4,
 "nbformat_minor": 0
}
