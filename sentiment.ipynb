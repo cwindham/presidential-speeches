{
 "cells": [
  {
   "cell_type": "code",
   "execution_count": 1,
   "metadata": {
    "collapsed": false
   },
   "outputs": [],
   "source": [
    "%matplotlib inline\n",
    "import string\n",
    "import pandas as pd\n",
    "import numpy as np\n",
    "import seaborn as sns"
   ]
  },
  {
   "cell_type": "code",
   "execution_count": 2,
   "metadata": {
    "collapsed": true
   },
   "outputs": [],
   "source": [
    "# Set ipython's max row display\n",
    "pd.set_option('display.max_row', 8)"
   ]
  },
  {
   "cell_type": "code",
   "execution_count": 3,
   "metadata": {
    "collapsed": true
   },
   "outputs": [],
   "source": [
    "speeches = pd.read_csv('speeches_raw.csv')"
   ]
  },
  {
   "cell_type": "code",
   "execution_count": 4,
   "metadata": {
    "collapsed": false
   },
   "outputs": [
    {
     "data": {
      "text/html": [
       "<div>\n",
       "<table border=\"1\" class=\"dataframe\">\n",
       "  <thead>\n",
       "    <tr style=\"text-align: right;\">\n",
       "      <th></th>\n",
       "      <th>president</th>\n",
       "      <th>title</th>\n",
       "      <th>date</th>\n",
       "      <th>link</th>\n",
       "      <th>transcript</th>\n",
       "    </tr>\n",
       "  </thead>\n",
       "  <tbody>\n",
       "    <tr>\n",
       "      <th>0</th>\n",
       "      <td>Barack Obama</td>\n",
       "      <td>Acceptance Speech at the Democratic National C...</td>\n",
       "      <td>2008-08-28</td>\n",
       "      <td>http://millercenter.org/president/obama/speech...</td>\n",
       "      <td>To Chairman Dean and my great friend Dick Durb...</td>\n",
       "    </tr>\n",
       "    <tr>\n",
       "      <th>1</th>\n",
       "      <td>Barack Obama</td>\n",
       "      <td>Remarks on Election Night</td>\n",
       "      <td>2008-11-04</td>\n",
       "      <td>http://millercenter.org/president/obama/speech...</td>\n",
       "      <td>If there is anyone out there who still doubts ...</td>\n",
       "    </tr>\n",
       "    <tr>\n",
       "      <th>2</th>\n",
       "      <td>Barack Obama</td>\n",
       "      <td>Inaugural Address</td>\n",
       "      <td>2009-01-20</td>\n",
       "      <td>http://millercenter.org/president/obama/speech...</td>\n",
       "      <td>I stand here today humbled by the task before ...</td>\n",
       "    </tr>\n",
       "    <tr>\n",
       "      <th>3</th>\n",
       "      <td>Barack Obama</td>\n",
       "      <td>Remarks on the Lilly Ledbetter Fair Pay Restor...</td>\n",
       "      <td>2009-01-29</td>\n",
       "      <td>http://millercenter.org/president/obama/speech...</td>\n",
       "      <td>It is fitting that with the very first bill I ...</td>\n",
       "    </tr>\n",
       "    <tr>\n",
       "      <th>4</th>\n",
       "      <td>Barack Obama</td>\n",
       "      <td>Remarks on the American Recovery and Reinvestm...</td>\n",
       "      <td>2009-02-07</td>\n",
       "      <td>http://millercenter.org/president/obama/speech...</td>\n",
       "      <td>Thank you, everybody.  Please have a seat.  Yo...</td>\n",
       "    </tr>\n",
       "  </tbody>\n",
       "</table>\n",
       "</div>"
      ],
      "text/plain": [
       "      president                                              title  \\\n",
       "0  Barack Obama  Acceptance Speech at the Democratic National C...   \n",
       "1  Barack Obama                          Remarks on Election Night   \n",
       "2  Barack Obama                                  Inaugural Address   \n",
       "3  Barack Obama  Remarks on the Lilly Ledbetter Fair Pay Restor...   \n",
       "4  Barack Obama  Remarks on the American Recovery and Reinvestm...   \n",
       "\n",
       "         date                                               link  \\\n",
       "0  2008-08-28  http://millercenter.org/president/obama/speech...   \n",
       "1  2008-11-04  http://millercenter.org/president/obama/speech...   \n",
       "2  2009-01-20  http://millercenter.org/president/obama/speech...   \n",
       "3  2009-01-29  http://millercenter.org/president/obama/speech...   \n",
       "4  2009-02-07  http://millercenter.org/president/obama/speech...   \n",
       "\n",
       "                                          transcript  \n",
       "0  To Chairman Dean and my great friend Dick Durb...  \n",
       "1  If there is anyone out there who still doubts ...  \n",
       "2  I stand here today humbled by the task before ...  \n",
       "3  It is fitting that with the very first bill I ...  \n",
       "4  Thank you, everybody.  Please have a seat.  Yo...  "
      ]
     },
     "execution_count": 4,
     "metadata": {},
     "output_type": "execute_result"
    }
   ],
   "source": [
    "speeches.head()"
   ]
  },
  {
   "cell_type": "code",
   "execution_count": 5,
   "metadata": {
    "collapsed": false
   },
   "outputs": [],
   "source": [
    "speeches['transcript'] = speeches['transcript'].astype('str')"
   ]
  },
  {
   "cell_type": "code",
   "execution_count": 6,
   "metadata": {
    "collapsed": true
   },
   "outputs": [],
   "source": [
    "speeches['date'] = speeches['date'].apply(pd.to_datetime)"
   ]
  },
  {
   "cell_type": "code",
   "execution_count": 7,
   "metadata": {
    "collapsed": true
   },
   "outputs": [],
   "source": [
    "speeches['word_count'] = speeches['transcript'].apply(lambda x: len(x.split()))"
   ]
  },
  {
   "cell_type": "code",
   "execution_count": 8,
   "metadata": {
    "collapsed": true
   },
   "outputs": [],
   "source": [
    "speeches['sentence_count'] = speeches['transcript'].apply(lambda x: len(x.split('.')))"
   ]
  },
  {
   "cell_type": "code",
   "execution_count": 9,
   "metadata": {
    "collapsed": true
   },
   "outputs": [],
   "source": [
    "speeches['sentence_length'] = speeches['word_count'] / speeches['sentence_count']"
   ]
  },
  {
   "cell_type": "code",
   "execution_count": 10,
   "metadata": {
    "collapsed": false
   },
   "outputs": [],
   "source": [
    "def get_word_length(text):\n",
    "    words = text.split()\n",
    "    words = list(map(lambda x: x.replace(string.punctuation, ''), words))\n",
    "    word_lengths = list(map(lambda x: len(x), words) )\n",
    "    return sum(word_lengths) / len(word_lengths)"
   ]
  },
  {
   "cell_type": "code",
   "execution_count": 11,
   "metadata": {
    "collapsed": true
   },
   "outputs": [],
   "source": [
    "speeches['word_length'] = speeches['transcript'].apply(get_word_length)"
   ]
  },
  {
   "cell_type": "code",
   "execution_count": 12,
   "metadata": {
    "collapsed": false
   },
   "outputs": [],
   "source": [
    "from nltk.corpus import sentiwordnet as swn\n",
    "from nltk.tokenize import sent_tokenize, word_tokenize\n",
    "\n",
    "def get_sentiment(word):\n",
    "    try:\n",
    "        pos = list(swn.senti_synsets(word))[0].pos_score()\n",
    "        neg = list(swn.senti_synsets(word))[0].neg_score()\n",
    "        return pos - neg\n",
    "    except:\n",
    "        return 0\n",
    "\n",
    "def get_sentence_sentiment(text):\n",
    "    text = text.lower().replace('—', ' ')\n",
    "    sentences = sent_tokenize(text)\n",
    "    sentences = [word_tokenize(x) for x in sentences]\n",
    "    #remove punctuation elements from sentence list\n",
    "    sentences = [[word\n",
    "                  for word in sentence\n",
    "                  if word not in string.punctuation\n",
    "                  and word != 'applause']\n",
    "                 for sentence in sentences]\n",
    "    sentiment = [[get_sentiment(word) for word in sentence] for sentence in sentences\n",
    "                 if len(sentence) > 0]\n",
    "    sentiment = [sum(x) for x in sentiment]\n",
    "    return sentiment"
   ]
  },
  {
   "cell_type": "code",
   "execution_count": 13,
   "metadata": {
    "collapsed": false
   },
   "outputs": [],
   "source": [
    "speeches['sentence_sentiment'] = speeches['transcript'].apply(get_sentence_sentiment)"
   ]
  },
  {
   "cell_type": "code",
   "execution_count": 14,
   "metadata": {
    "collapsed": true
   },
   "outputs": [],
   "source": [
    "speeches['speech_sentiment'] = speeches['sentence_sentiment'].apply(lambda x: sum(x) / len(x))"
   ]
  },
  {
   "cell_type": "code",
   "execution_count": 16,
   "metadata": {
    "collapsed": false
   },
   "outputs": [],
   "source": [
    "speeches.to_csv('speeches.csv', index=False)"
   ]
  },
  {
   "cell_type": "code",
   "execution_count": 17,
   "metadata": {
    "collapsed": true
   },
   "outputs": [],
   "source": [
    "candidates = pd.read_csv('candidates.csv')"
   ]
  },
  {
   "cell_type": "code",
   "execution_count": 18,
   "metadata": {
    "collapsed": false
   },
   "outputs": [],
   "source": [
    "candidates['sentence_sentiment'] = candidates['transcript'].apply(get_sentence_sentiment)"
   ]
  },
  {
   "cell_type": "code",
   "execution_count": 19,
   "metadata": {
    "collapsed": true
   },
   "outputs": [],
   "source": [
    "candidates['speech_sentiment'] = candidates['sentence_sentiment'].apply(lambda x: sum(x) / len(x))"
   ]
  },
  {
   "cell_type": "code",
   "execution_count": 20,
   "metadata": {
    "collapsed": false
   },
   "outputs": [],
   "source": [
    "candidates.to_csv('candidates.csv', index=False)"
   ]
  }
 ],
 "metadata": {
  "anaconda-cloud": {},
  "kernelspec": {
   "display_name": "Python [scraper]",
   "language": "python",
   "name": "Python [scraper]"
  },
  "language_info": {
   "codemirror_mode": {
    "name": "ipython",
    "version": 3
   },
   "file_extension": ".py",
   "mimetype": "text/x-python",
   "name": "python",
   "nbconvert_exporter": "python",
   "pygments_lexer": "ipython3",
   "version": "3.5.2"
  }
 },
 "nbformat": 4,
 "nbformat_minor": 1
}
